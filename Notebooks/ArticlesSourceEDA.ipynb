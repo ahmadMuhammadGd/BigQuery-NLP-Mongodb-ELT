{
 "cells": [
  {
   "cell_type": "code",
   "execution_count": 86,
   "metadata": {},
   "outputs": [],
   "source": [
    "import os \n",
    "import pandas as pd\n",
    "\n",
    "credentials_path=\"../credentials/my-project-428316-bad106950325.json\"\n",
    "\n",
    "os.environ[\"GOOGLE_APPLICATION_CREDENTIALS\"] = os.path.join(os.getcwd(), credentials_path)\n",
    "\n",
    "%reload_ext google.cloud.bigquery"
   ]
  },
  {
   "cell_type": "markdown",
   "metadata": {},
   "source": [
    "# Viewing Data Sample"
   ]
  },
  {
   "cell_type": "code",
   "execution_count": 2,
   "metadata": {},
   "outputs": [
    {
     "data": {
      "application/vnd.jupyter.widget-view+json": {
       "model_id": "2f6db11dbc15458989f57df27194e4e9",
       "version_major": 2,
       "version_minor": 0
      },
      "text/plain": [
       "Query is running:   0%|          |"
      ]
     },
     "metadata": {},
     "output_type": "display_data"
    },
    {
     "data": {
      "application/vnd.jupyter.widget-view+json": {
       "model_id": "1ccea5e2b4c14e358a1f3fb0b22a9684",
       "version_major": 2,
       "version_minor": 0
      },
      "text/plain": [
       "Downloading:   0%|          |"
      ]
     },
     "metadata": {},
     "output_type": "display_data"
    },
    {
     "data": {
      "text/html": [
       "<div>\n",
       "<style scoped>\n",
       "    .dataframe tbody tr th:only-of-type {\n",
       "        vertical-align: middle;\n",
       "    }\n",
       "\n",
       "    .dataframe tbody tr th {\n",
       "        vertical-align: top;\n",
       "    }\n",
       "\n",
       "    .dataframe thead th {\n",
       "        text-align: right;\n",
       "    }\n",
       "</style>\n",
       "<table border=\"1\" class=\"dataframe\">\n",
       "  <thead>\n",
       "    <tr style=\"text-align: right;\">\n",
       "      <th></th>\n",
       "      <th>body</th>\n",
       "      <th>title</th>\n",
       "      <th>filename</th>\n",
       "      <th>category</th>\n",
       "    </tr>\n",
       "  </thead>\n",
       "  <tbody>\n",
       "    <tr>\n",
       "      <th>0</th>\n",
       "      <td>The global web blog community is being called ...</td>\n",
       "      <td>Global blogger action day called</td>\n",
       "      <td>bbc/tech/016.txt</td>\n",
       "      <td>tech</td>\n",
       "    </tr>\n",
       "    <tr>\n",
       "      <th>1</th>\n",
       "      <td>The \"digital divide\" between rich and poor nat...</td>\n",
       "      <td>Global digital divide 'narrowing'</td>\n",
       "      <td>bbc/tech/033.txt</td>\n",
       "      <td>tech</td>\n",
       "    </tr>\n",
       "    <tr>\n",
       "      <th>2</th>\n",
       "      <td>The current slew of sports games offers unpara...</td>\n",
       "      <td>Sporting rivals go to extra time</td>\n",
       "      <td>bbc/tech/056.txt</td>\n",
       "      <td>tech</td>\n",
       "    </tr>\n",
       "    <tr>\n",
       "      <th>3</th>\n",
       "      <td>Writing a Microsoft Word document can be a dan...</td>\n",
       "      <td>Warning over Windows Word files</td>\n",
       "      <td>bbc/tech/086.txt</td>\n",
       "      <td>tech</td>\n",
       "    </tr>\n",
       "    <tr>\n",
       "      <th>4</th>\n",
       "      <td>Aid workers trying to house, feed and clothe m...</td>\n",
       "      <td>Satellite mapping aids Darfur relief</td>\n",
       "      <td>bbc/tech/223.txt</td>\n",
       "      <td>tech</td>\n",
       "    </tr>\n",
       "  </tbody>\n",
       "</table>\n",
       "</div>"
      ],
      "text/plain": [
       "                                                body  \\\n",
       "0  The global web blog community is being called ...   \n",
       "1  The \"digital divide\" between rich and poor nat...   \n",
       "2  The current slew of sports games offers unpara...   \n",
       "3  Writing a Microsoft Word document can be a dan...   \n",
       "4  Aid workers trying to house, feed and clothe m...   \n",
       "\n",
       "                                  title          filename category  \n",
       "0      Global blogger action day called  bbc/tech/016.txt     tech  \n",
       "1     Global digital divide 'narrowing'  bbc/tech/033.txt     tech  \n",
       "2      Sporting rivals go to extra time  bbc/tech/056.txt     tech  \n",
       "3       Warning over Windows Word files  bbc/tech/086.txt     tech  \n",
       "4  Satellite mapping aids Darfur relief  bbc/tech/223.txt     tech  "
      ]
     },
     "execution_count": 2,
     "metadata": {},
     "output_type": "execute_result"
    }
   ],
   "source": [
    "%%bigquery --use_rest_api \n",
    "SELECT *\n",
    "FROM bigquery-public-data.bbc_news.fulltext\n",
    "LIMIT 5;"
   ]
  },
  {
   "cell_type": "markdown",
   "metadata": {},
   "source": [
    "# Checking Rows Count"
   ]
  },
  {
   "cell_type": "code",
   "execution_count": 3,
   "metadata": {},
   "outputs": [
    {
     "data": {
      "application/vnd.jupyter.widget-view+json": {
       "model_id": "10cffa0071554eb884bbfc09e3e3fbdb",
       "version_major": 2,
       "version_minor": 0
      },
      "text/plain": [
       "Query is running:   0%|          |"
      ]
     },
     "metadata": {},
     "output_type": "display_data"
    },
    {
     "data": {
      "application/vnd.jupyter.widget-view+json": {
       "model_id": "f316d37b93f043049c1756a072c2e728",
       "version_major": 2,
       "version_minor": 0
      },
      "text/plain": [
       "Downloading:   0%|          |"
      ]
     },
     "metadata": {},
     "output_type": "display_data"
    },
    {
     "data": {
      "text/html": [
       "<div>\n",
       "<style scoped>\n",
       "    .dataframe tbody tr th:only-of-type {\n",
       "        vertical-align: middle;\n",
       "    }\n",
       "\n",
       "    .dataframe tbody tr th {\n",
       "        vertical-align: top;\n",
       "    }\n",
       "\n",
       "    .dataframe thead th {\n",
       "        text-align: right;\n",
       "    }\n",
       "</style>\n",
       "<table border=\"1\" class=\"dataframe\">\n",
       "  <thead>\n",
       "    <tr style=\"text-align: right;\">\n",
       "      <th></th>\n",
       "      <th>cnt</th>\n",
       "    </tr>\n",
       "  </thead>\n",
       "  <tbody>\n",
       "    <tr>\n",
       "      <th>0</th>\n",
       "      <td>2225</td>\n",
       "    </tr>\n",
       "  </tbody>\n",
       "</table>\n",
       "</div>"
      ],
      "text/plain": [
       "    cnt\n",
       "0  2225"
      ]
     },
     "execution_count": 3,
     "metadata": {},
     "output_type": "execute_result"
    }
   ],
   "source": [
    "%%bigquery --use_rest_api \n",
    "SELECT COUNT(*) as cnt\n",
    "FROM bigquery-public-data.bbc_news.fulltext;"
   ]
  },
  {
   "cell_type": "markdown",
   "metadata": {},
   "source": [
    "# Check duplicates"
   ]
  },
  {
   "cell_type": "code",
   "execution_count": 44,
   "metadata": {},
   "outputs": [
    {
     "data": {
      "application/vnd.jupyter.widget-view+json": {
       "model_id": "c25168b0c71645269f46cd1d6779e9cc",
       "version_major": 2,
       "version_minor": 0
      },
      "text/plain": [
       "Query is running:   0%|          |"
      ]
     },
     "metadata": {},
     "output_type": "display_data"
    },
    {
     "data": {
      "application/vnd.jupyter.widget-view+json": {
       "model_id": "c34e4bbd14dc4e75bf1edce7a8d6ad75",
       "version_major": 2,
       "version_minor": 0
      },
      "text/plain": [
       "Downloading:   0%|          |"
      ]
     },
     "metadata": {},
     "output_type": "display_data"
    },
    {
     "data": {
      "text/html": [
       "<div>\n",
       "<style scoped>\n",
       "    .dataframe tbody tr th:only-of-type {\n",
       "        vertical-align: middle;\n",
       "    }\n",
       "\n",
       "    .dataframe tbody tr th {\n",
       "        vertical-align: top;\n",
       "    }\n",
       "\n",
       "    .dataframe thead th {\n",
       "        text-align: right;\n",
       "    }\n",
       "</style>\n",
       "<table border=\"1\" class=\"dataframe\">\n",
       "  <thead>\n",
       "    <tr style=\"text-align: right;\">\n",
       "      <th></th>\n",
       "      <th>title</th>\n",
       "      <th>duplicate_count</th>\n",
       "    </tr>\n",
       "  </thead>\n",
       "  <tbody>\n",
       "    <tr>\n",
       "      <th>0</th>\n",
       "      <td>DVD copy protection strengthened</td>\n",
       "      <td>2</td>\n",
       "    </tr>\n",
       "    <tr>\n",
       "      <th>1</th>\n",
       "      <td>Intel unveils laser breakthrough</td>\n",
       "      <td>2</td>\n",
       "    </tr>\n",
       "    <tr>\n",
       "      <th>2</th>\n",
       "      <td>Looks and music to drive mobiles</td>\n",
       "      <td>2</td>\n",
       "    </tr>\n",
       "    <tr>\n",
       "      <th>3</th>\n",
       "      <td>Millions to miss out on the net</td>\n",
       "      <td>2</td>\n",
       "    </tr>\n",
       "    <tr>\n",
       "      <th>4</th>\n",
       "      <td>Virus poses as Christmas e-mail</td>\n",
       "      <td>2</td>\n",
       "    </tr>\n",
       "    <tr>\n",
       "      <th>...</th>\n",
       "      <td>...</td>\n",
       "      <td>...</td>\n",
       "    </tr>\n",
       "    <tr>\n",
       "      <th>124</th>\n",
       "      <td>Day-Lewis set for Berlin honour</td>\n",
       "      <td>2</td>\n",
       "    </tr>\n",
       "    <tr>\n",
       "      <th>125</th>\n",
       "      <td>Sir Paul rocks Super Bowl crowds</td>\n",
       "      <td>2</td>\n",
       "    </tr>\n",
       "    <tr>\n",
       "      <th>126</th>\n",
       "      <td>Pop band Busted to 'take a break'</td>\n",
       "      <td>2</td>\n",
       "    </tr>\n",
       "    <tr>\n",
       "      <th>127</th>\n",
       "      <td>Downloads enter US singles chart</td>\n",
       "      <td>2</td>\n",
       "    </tr>\n",
       "    <tr>\n",
       "      <th>128</th>\n",
       "      <td>New York rockers top talent poll</td>\n",
       "      <td>2</td>\n",
       "    </tr>\n",
       "  </tbody>\n",
       "</table>\n",
       "<p>129 rows × 2 columns</p>\n",
       "</div>"
      ],
      "text/plain": [
       "                                 title  duplicate_count\n",
       "0     DVD copy protection strengthened                2\n",
       "1     Intel unveils laser breakthrough                2\n",
       "2     Looks and music to drive mobiles                2\n",
       "3      Millions to miss out on the net                2\n",
       "4      Virus poses as Christmas e-mail                2\n",
       "..                                 ...              ...\n",
       "124    Day-Lewis set for Berlin honour                2\n",
       "125   Sir Paul rocks Super Bowl crowds                2\n",
       "126  Pop band Busted to 'take a break'                2\n",
       "127   Downloads enter US singles chart                2\n",
       "128   New York rockers top talent poll                2\n",
       "\n",
       "[129 rows x 2 columns]"
      ]
     },
     "execution_count": 44,
     "metadata": {},
     "output_type": "execute_result"
    }
   ],
   "source": [
    "%%bigquery --use_rest_api\n",
    "WITH duplicates AS (\n",
    "SELECT\n",
    "    title,\n",
    "    COUNT(*) AS duplicate_count\n",
    "FROM\n",
    "    `bigquery-public-data.bbc_news.fulltext`\n",
    "GROUP BY\n",
    "    title\n",
    ")\n",
    "\n",
    "SELECT * FROM duplicates\n",
    "WHERE duplicate_count > 1\n",
    "ORDER BY duplicate_count;\n"
   ]
  },
  {
   "cell_type": "code",
   "execution_count": 54,
   "metadata": {},
   "outputs": [
    {
     "data": {
      "application/vnd.jupyter.widget-view+json": {
       "model_id": "7f5830f07b68445697ae65602d23f2ef",
       "version_major": 2,
       "version_minor": 0
      },
      "text/plain": [
       "Query is running:   0%|          |"
      ]
     },
     "metadata": {},
     "output_type": "display_data"
    },
    {
     "data": {
      "application/vnd.jupyter.widget-view+json": {
       "model_id": "78036045dfa54529afe529c6dc5ec508",
       "version_major": 2,
       "version_minor": 0
      },
      "text/plain": [
       "Downloading:   0%|          |"
      ]
     },
     "metadata": {},
     "output_type": "display_data"
    }
   ],
   "source": [
    "%%bigquery --use_rest_api df\n",
    "SELECT *, CHAR_LENGTH(body) as body_cnt\n",
    "FROM `bigquery-public-data.bbc_news.fulltext`\n",
    "WHERE title IN ('DVD copy protection strengthened', 'Intel unveils laser breakthrough');\n"
   ]
  },
  {
   "cell_type": "code",
   "execution_count": 58,
   "metadata": {},
   "outputs": [
    {
     "name": "stdout",
     "output_type": "stream",
     "text": [
      "['DVD copy protection strengthened', 'Intel unveils laser breakthrough']\n",
      "\n",
      "\n",
      "\n",
      "Title:DVD copy protection strengthened\n",
      "\n",
      "****************************************\n",
      "First text\n",
      "    DVDs will be harder to copy thanks to new anti-piracy measures devised by copy protection firm Macrovision.\n",
      "\n",
      "The pirated DVD market is enormous because current copy protection was hacked more than five years ago. Macrovision says its new RipGuard technology will thwart most, but not all, of the current DVD ripping (copying) programs used to pirate DVDs. \"RipGuard is designed to... reduce DVD ripping and the resulting supply of illegal peer to peer,\" said the firm. Macrovision said the new technology will work in \"nearly all\" current DVD players when applied to the discs, but it did not specify how many machines could have a problem with RipGuard. Some BBC News website users have expressed concerns that the new technology will mean that DVDs will not work on PCs running the operating system Linux. The new technology will be welcomed by Hollywood film studios which are increasingly relying on revenue from DVD sales.\n",
      "\n",
      "The film industry has stepped up efforts to fight DVD piracy in the last 12 months, taking legal action against websites which offer pirated copies of DVD movies for download.\n",
      "\n",
      "\"Ultimately, we see RipGuard DVD... evolving beyond anti-piracy, and towards enablement of legitimate online transactions, interoperability in tomorrow's digital home, and the upcoming high-definition formats,\" said Steve Weinstein, executive vice president and general manager of Macrovision's Entertainment Technologies Group. Macrovision said RipGuard would also prevent against \"rent, rip and return\" - where people would rent a DVD, copy it and then return the original. RipGuard is expected to be rolled out on DVDs from the middle of 2005, the company said. The new system works specifically to block most ripping programs - if used, those programs will now most likely crash, the company said. Macrovision has said that Rip Guard can be updated if hackers find a way around the new anti-copying measures.\n",
      "\n",
      "                \n",
      "****************************************\n",
      "Second text\n",
      "    DVDs will be harder to copy thanks to new anti-piracy measures devised by copy protection firm Macrovision.\n",
      "\n",
      "The pirated DVD market is enormous because current copy protection was hacked more than five years ago. Macrovision says its new RipGuard technology will thwart most, but not all, of the current DVD ripping (copying) programs used to pirate DVDs. \"RipGuard is designed to... reduce DVD ripping and the resulting supply of illegal peer to peer,\" said the firm. Macrovision said the new technology will work in \"nearly all\" current DVD players when applied to the discs, but it did not specify how many machines could have a problem with RipGuard. The new technology will be welcomed by Hollywood film studios which are increasingly relying on revenue from DVD sales.\n",
      "\n",
      "The film industry has stepped up efforts to fight DVD piracy in the last 12 months, taking legal action against websites which offer pirated copies of DVD movies for download.\n",
      "\n",
      "\"Ultimately, we see RipGuard DVD... evolving beyond anti-piracy, and towards enablement of legitimate online transactions, interoperability in tomorrow's digital home, and the upcoming high-definition formats,\" said Steve Weinstein, executive vice president and general manager of Macrovision's Entertainment Technologies Group. Macrovision said RipGuard was designed to plug the \"digital hole\" that was created by so-called DeCSS ripper software. It circumvents Content Scrambling System measures placed on DVDs and let people make perfect digital copies of copyrighted DVDs in minutes. Those copies could then be burned onto a blank DVD or uploaded for exchange to a peer-to-peer network. Macrovision said RipGuard would also prevent against \"rent, rip and return\" - where people would rent a DVD, copy it and then return the original. RipGuard is expected to be rolled out on DVDs from the middle of 2005, the company said. The new system works specifically to block most ripping programs - if used, those programs will now most likely crash, the company said. Macrovision has said that Rip Guard can be updated if hackers find a way around the new anti-copying measures.\n",
      "\n",
      "                \n",
      "\n",
      "\n",
      "Title:Intel unveils laser breakthrough\n",
      "\n",
      "****************************************\n",
      "First text\n",
      "    Intel has unveiled research that could mean data is soon being moved around chips at the speed of light.\n",
      "\n",
      "Scientists at Intel have overcome a fundamental problem that before now has prevented silicon being used to generate and amplify laser light. The breakthrough should make it easier to interconnect data networks with the chips that process the information. The Intel researchers said products exploiting the breakthrough should appear by the end of the decade.\n",
      "\n",
      "\"We've overcome a fundamental limit,\" said Dr Mario Paniccia, director of Intel's photonics technology lab. Writing in the journal Nature, Dr Paniccia - and colleagues Haisheng Rong, Richard Jones, Ansheng Liu, Oded Cohen, Dani Hak and Alexander Fang - show how they have made a continuous laser from the same material used to make computer processors. Currently, says Dr Paniccia, telecommunications equipment that amplifies the laser light that travels down fibre optic cables is very expensive because of the exotic materials, such as gallium arsenide, used to make it.\n",
      "\n",
      "Telecommunications firms and chip makers would prefer to use silicon for these light-moving elements because it is cheap and many of the problems of using it in high-volume manufacturing have been solved. \"We're trying to take our silicon competency in manufacturing and apply it to new areas,\" said Dr Paniccia. While work has been done to make some of the components that can move light around, before now silicon has not successfully been used to generate or amplify the laser light pulses used to send data over long distances. This is despite the fact that silicon is a much better amplifier of light pulses than the form of the material used in fibre optic cables. This improved amplification is due to the crystalline structure of the silicon used to make computer chips. Dr Paniccia said that the structure of silicon meant that when laser light passed through it, some colliding photons rip electrons off the atoms within the material. \"It creates a cloud of electrons sitting in the silicon and that absorbs all the light,\" he said. But the Intel researchers have found a way to suck away these errant electrons and turn silicon into a material that can both generate and amplify laser light. Even better, the laser light produced in this way can, with the help of easy-to-make filters, be tuned across a very wide range of frequencies. Semi-conductor lasers made before now have only produced light in a narrow frequency ranges. The result could be the close integration of the fibre optic cables that carry data as light with the computer chips that process it. Dr Paniccia said the work was the one of several steps needed if silicon was to be used to make components that could carry and process light in the form of data pulses. \"It's a technical validation that it can work,\" he said.\n",
      "\n",
      "                \n",
      "****************************************\n",
      "Second text\n",
      "    Intel has said it has found a way to put a silicon-based laser on a chip, raising hopes of much faster networks.\n",
      "\n",
      "Scientists at Intel have overcome a fundamental problem that before now has prevented silicon being used to generate and amplify laser light. The breakthrough should make it easier to interconnect data networks with the chips that process the information. The Intel researchers said products exploiting the breakthrough should appear by the end of the decade.\n",
      "\n",
      "\"We've overcome a fundamental limit,\" said Dr Mario Paniccia, director of Intel's photonics technology lab. Writing in the journal Nature, Dr Paniccia - and colleagues Haisheng Rong, Richard Jones, Ansheng Liu, Oded Cohen, Dani Hak and Alexander Fang - show how they have made a continuous laser from the same material used to make computer processors. Currently, says Dr Paniccia, telecommunications equipment that amplifies the laser light that travels down fibre optic cables is very expensive because of the exotic materials, such as gallium arsenide, used to make it.\n",
      "\n",
      "Telecommunications firms and chip makers would prefer to use silicon for these light-moving elements because it is cheap and many of the problems of using it in high-volume manufacturing have been solved. \"We're trying to take our silicon competency in manufacturing and apply it to new areas,\" said Dr Paniccia. While work has been done to make some of the components that can move light around, before now silicon has not successfully been used to generate or amplify the laser light pulses used to send data over long distances. This is despite the fact that silicon is a much better amplifier of light pulses than the form of the material used in fibre optic cables. This improved amplification is due to the crystalline structure of the silicon used to make computer chips. Dr Paniccia said that the structure of silicon meant that when laser light passed through it, some colliding photons rip electrons off the atoms within the material. \"It creates a cloud of electrons sitting in the silicon and that absorbs all the light,\" he said. But the Intel researchers have found a way to suck away these errant electrons and turn silicon into a material that can both generate and amplify laser light. Even better, the laser light produced in this way can, with the help of easy-to-make filters, be tuned across a very wide range of frequencies. Semi-conductor lasers made before now have only produced light in a narrow frequency ranges. The result could be the close integration of the fibre optic cables that carry data as light with the computer chips that process it. Dr Paniccia said the work was the one of several steps needed if silicon was to be used to make components that could carry and process light in the form of data pulses. \"It's a technical validation that it can work,\" he said.\n",
      "\n",
      "                \n"
     ]
    }
   ],
   "source": [
    "def print_body(df:pd.DataFrame):\n",
    "    titles = df[\"title\"].unique().tolist()\n",
    "    print(titles)\n",
    "    string = \"\"\n",
    "    for title in titles:\n",
    "        df2 = df.copy()\n",
    "        df2 = df2[df2['title'] == title]\n",
    "        row_num = df2.shape[0]\n",
    "        string = string + f\"\\n\\n\\nTitle:{title}\\n\"\n",
    "        for i in range(row_num):\n",
    "            string = string + f\"\"\"\n",
    "****************************************\n",
    "{['First text', 'Second text'][i]}\n",
    "    {(str(df2.iloc[i][\"body\"]))}\n",
    "                \"\"\"\n",
    "    print(string)\n",
    "        \n",
    "print_body(df)"
   ]
  },
  {
   "cell_type": "markdown",
   "metadata": {},
   "source": [
    "## Checking for body duplicates"
   ]
  },
  {
   "cell_type": "code",
   "execution_count": 168,
   "metadata": {},
   "outputs": [
    {
     "data": {
      "application/vnd.jupyter.widget-view+json": {
       "model_id": "162514ef73c54d7eb3cd54b66ad91fdc",
       "version_major": 2,
       "version_minor": 0
      },
      "text/plain": [
       "Query is running:   0%|          |"
      ]
     },
     "metadata": {},
     "output_type": "display_data"
    },
    {
     "data": {
      "application/vnd.jupyter.widget-view+json": {
       "model_id": "957e42ae0a254167a396ec3d0f6f1f24",
       "version_major": 2,
       "version_minor": 0
      },
      "text/plain": [
       "Downloading:   0%|          |"
      ]
     },
     "metadata": {},
     "output_type": "display_data"
    },
    {
     "data": {
      "text/html": [
       "<div>\n",
       "<style scoped>\n",
       "    .dataframe tbody tr th:only-of-type {\n",
       "        vertical-align: middle;\n",
       "    }\n",
       "\n",
       "    .dataframe tbody tr th {\n",
       "        vertical-align: top;\n",
       "    }\n",
       "\n",
       "    .dataframe thead th {\n",
       "        text-align: right;\n",
       "    }\n",
       "</style>\n",
       "<table border=\"1\" class=\"dataframe\">\n",
       "  <thead>\n",
       "    <tr style=\"text-align: right;\">\n",
       "      <th></th>\n",
       "      <th>body</th>\n",
       "      <th>title</th>\n",
       "      <th>filename</th>\n",
       "      <th>category</th>\n",
       "      <th>row_number</th>\n",
       "    </tr>\n",
       "  </thead>\n",
       "  <tbody>\n",
       "    <tr>\n",
       "      <th>0</th>\n",
       "      <td>British and Irish Lions coach Clive Woodward s...</td>\n",
       "      <td>Lions blow to World Cup winners</td>\n",
       "      <td>bbc/sport/387.txt</td>\n",
       "      <td>sport</td>\n",
       "      <td>2</td>\n",
       "    </tr>\n",
       "    <tr>\n",
       "      <th>1</th>\n",
       "      <td>The Aviator has been tipped by UK bookmakers a...</td>\n",
       "      <td>Bookmakers back Aviator for Oscar</td>\n",
       "      <td>bbc/entertainment/086.txt</td>\n",
       "      <td>entertainment</td>\n",
       "      <td>2</td>\n",
       "    </tr>\n",
       "    <tr>\n",
       "      <th>2</th>\n",
       "      <td>Former Conservative leader William Hague says ...</td>\n",
       "      <td>Hague 'given up' his PM ambition</td>\n",
       "      <td>bbc/politics/285.txt</td>\n",
       "      <td>politics</td>\n",
       "      <td>2</td>\n",
       "    </tr>\n",
       "    <tr>\n",
       "      <th>3</th>\n",
       "      <td>Michael Howard has denied his shadow cabinet w...</td>\n",
       "      <td>Howard denies split over ID cards</td>\n",
       "      <td>bbc/politics/300.txt</td>\n",
       "      <td>politics</td>\n",
       "      <td>2</td>\n",
       "    </tr>\n",
       "    <tr>\n",
       "      <th>4</th>\n",
       "      <td>Microsoft has warned PC users to update their ...</td>\n",
       "      <td>Microsoft releases bumper patches</td>\n",
       "      <td>bbc/tech/007.txt</td>\n",
       "      <td>tech</td>\n",
       "      <td>2</td>\n",
       "    </tr>\n",
       "    <tr>\n",
       "      <th>...</th>\n",
       "      <td>...</td>\n",
       "      <td>...</td>\n",
       "      <td>...</td>\n",
       "      <td>...</td>\n",
       "      <td>...</td>\n",
       "    </tr>\n",
       "    <tr>\n",
       "      <th>128</th>\n",
       "      <td>Firms that flout rules on how ringtones and ot...</td>\n",
       "      <td>Tough rules for ringtone sellers</td>\n",
       "      <td>bbc/tech/382.txt</td>\n",
       "      <td>tech</td>\n",
       "      <td>2</td>\n",
       "    </tr>\n",
       "    <tr>\n",
       "      <th>129</th>\n",
       "      <td>Two of Britain's big trade unions could merge ...</td>\n",
       "      <td>'Super union' merger plan touted</td>\n",
       "      <td>bbc/politics/291.txt</td>\n",
       "      <td>politics</td>\n",
       "      <td>2</td>\n",
       "    </tr>\n",
       "    <tr>\n",
       "      <th>130</th>\n",
       "      <td>IBM is spending $100m (£52m) over the next thr...</td>\n",
       "      <td>IBM puts cash behind Linux push</td>\n",
       "      <td>bbc/tech/012.txt</td>\n",
       "      <td>tech</td>\n",
       "      <td>2</td>\n",
       "    </tr>\n",
       "    <tr>\n",
       "      <th>131</th>\n",
       "      <td>The first convictions for piracy over peer-to-...</td>\n",
       "      <td>US peer-to-peer pirates convicted</td>\n",
       "      <td>bbc/tech/075.txt</td>\n",
       "      <td>tech</td>\n",
       "      <td>2</td>\n",
       "    </tr>\n",
       "    <tr>\n",
       "      <th>132</th>\n",
       "      <td>Tony Blair has had the chance to tackle the pr...</td>\n",
       "      <td>UK heading wrong way - Howard</td>\n",
       "      <td>bbc/politics/110.txt</td>\n",
       "      <td>politics</td>\n",
       "      <td>2</td>\n",
       "    </tr>\n",
       "  </tbody>\n",
       "</table>\n",
       "<p>133 rows × 5 columns</p>\n",
       "</div>"
      ],
      "text/plain": [
       "                                                  body  \\\n",
       "0    British and Irish Lions coach Clive Woodward s...   \n",
       "1    The Aviator has been tipped by UK bookmakers a...   \n",
       "2    Former Conservative leader William Hague says ...   \n",
       "3    Michael Howard has denied his shadow cabinet w...   \n",
       "4    Microsoft has warned PC users to update their ...   \n",
       "..                                                 ...   \n",
       "128  Firms that flout rules on how ringtones and ot...   \n",
       "129  Two of Britain's big trade unions could merge ...   \n",
       "130  IBM is spending $100m (£52m) over the next thr...   \n",
       "131  The first convictions for piracy over peer-to-...   \n",
       "132  Tony Blair has had the chance to tackle the pr...   \n",
       "\n",
       "                                 title                   filename  \\\n",
       "0      Lions blow to World Cup winners          bbc/sport/387.txt   \n",
       "1    Bookmakers back Aviator for Oscar  bbc/entertainment/086.txt   \n",
       "2     Hague 'given up' his PM ambition       bbc/politics/285.txt   \n",
       "3    Howard denies split over ID cards       bbc/politics/300.txt   \n",
       "4    Microsoft releases bumper patches           bbc/tech/007.txt   \n",
       "..                                 ...                        ...   \n",
       "128   Tough rules for ringtone sellers           bbc/tech/382.txt   \n",
       "129   'Super union' merger plan touted       bbc/politics/291.txt   \n",
       "130    IBM puts cash behind Linux push           bbc/tech/012.txt   \n",
       "131  US peer-to-peer pirates convicted           bbc/tech/075.txt   \n",
       "132      UK heading wrong way - Howard       bbc/politics/110.txt   \n",
       "\n",
       "          category  row_number  \n",
       "0            sport           2  \n",
       "1    entertainment           2  \n",
       "2         politics           2  \n",
       "3         politics           2  \n",
       "4             tech           2  \n",
       "..             ...         ...  \n",
       "128           tech           2  \n",
       "129       politics           2  \n",
       "130           tech           2  \n",
       "131           tech           2  \n",
       "132       politics           2  \n",
       "\n",
       "[133 rows x 5 columns]"
      ]
     },
     "execution_count": 168,
     "metadata": {},
     "output_type": "execute_result"
    }
   ],
   "source": [
    "%%bigquery --use_rest_api\n",
    "\n",
    "WITH RankedData AS (\n",
    "    SELECT\n",
    "        *,\n",
    "        ROW_NUMBER() OVER(PARTITION BY body ORDER BY body) AS row_number\n",
    "    FROM \n",
    "        `bigquery-public-data.bbc_news.fulltext`\n",
    ")\n",
    "\n",
    "SELECT *\n",
    "FROM RankedData\n",
    "WHERE row_number > 1;\n"
   ]
  },
  {
   "cell_type": "markdown",
   "metadata": {},
   "source": [
    "## Filtering Duplicates"
   ]
  },
  {
   "cell_type": "code",
   "execution_count": 163,
   "metadata": {},
   "outputs": [
    {
     "data": {
      "application/vnd.jupyter.widget-view+json": {
       "model_id": "de74551015aa4231bea49f86022627a8",
       "version_major": 2,
       "version_minor": 0
      },
      "text/plain": [
       "Query is running:   0%|          |"
      ]
     },
     "metadata": {},
     "output_type": "display_data"
    },
    {
     "data": {
      "application/vnd.jupyter.widget-view+json": {
       "model_id": "dc237d53c0a94195a74d61f9314a928a",
       "version_major": 2,
       "version_minor": 0
      },
      "text/plain": [
       "Downloading:   0%|          |"
      ]
     },
     "metadata": {},
     "output_type": "display_data"
    },
    {
     "data": {
      "text/html": [
       "<div>\n",
       "<style scoped>\n",
       "    .dataframe tbody tr th:only-of-type {\n",
       "        vertical-align: middle;\n",
       "    }\n",
       "\n",
       "    .dataframe tbody tr th {\n",
       "        vertical-align: top;\n",
       "    }\n",
       "\n",
       "    .dataframe thead th {\n",
       "        text-align: right;\n",
       "    }\n",
       "</style>\n",
       "<table border=\"1\" class=\"dataframe\">\n",
       "  <thead>\n",
       "    <tr style=\"text-align: right;\">\n",
       "      <th></th>\n",
       "      <th>body</th>\n",
       "      <th>title</th>\n",
       "      <th>filename</th>\n",
       "      <th>category</th>\n",
       "      <th>row_number</th>\n",
       "    </tr>\n",
       "  </thead>\n",
       "  <tbody>\n",
       "    <tr>\n",
       "      <th>0</th>\n",
       "      <td>Literally putting a face on technology could b...</td>\n",
       "      <td>Putting a face to 'Big Brother'</td>\n",
       "      <td>bbc/tech/143.txt</td>\n",
       "      <td>tech</td>\n",
       "      <td>1</td>\n",
       "    </tr>\n",
       "    <tr>\n",
       "      <th>1</th>\n",
       "      <td>Soon you could go hunting via the net.\\n\\nA Te...</td>\n",
       "      <td>Remote control rifle range debuts</td>\n",
       "      <td>bbc/tech/202.txt</td>\n",
       "      <td>tech</td>\n",
       "      <td>1</td>\n",
       "    </tr>\n",
       "    <tr>\n",
       "      <th>2</th>\n",
       "      <td>The European Parliament has thrown out a bill ...</td>\n",
       "      <td>EU software patent law faces axe</td>\n",
       "      <td>bbc/tech/330.txt</td>\n",
       "      <td>tech</td>\n",
       "      <td>1</td>\n",
       "    </tr>\n",
       "    <tr>\n",
       "      <th>3</th>\n",
       "      <td>UK mobile owners continue to break records wit...</td>\n",
       "      <td>Text message record smashed again</td>\n",
       "      <td>bbc/tech/372.txt</td>\n",
       "      <td>tech</td>\n",
       "      <td>1</td>\n",
       "    </tr>\n",
       "    <tr>\n",
       "      <th>4</th>\n",
       "      <td>A proposed European law on software patents wi...</td>\n",
       "      <td>'No re-draft' for EU patent law</td>\n",
       "      <td>bbc/tech/048.txt</td>\n",
       "      <td>tech</td>\n",
       "      <td>1</td>\n",
       "    </tr>\n",
       "    <tr>\n",
       "      <th>...</th>\n",
       "      <td>...</td>\n",
       "      <td>...</td>\n",
       "      <td>...</td>\n",
       "      <td>...</td>\n",
       "      <td>...</td>\n",
       "    </tr>\n",
       "    <tr>\n",
       "      <th>2087</th>\n",
       "      <td>The Incredibles movie has beaten Shrek 2 to th...</td>\n",
       "      <td>Incredibles win animation awards</td>\n",
       "      <td>bbc/entertainment/332.txt</td>\n",
       "      <td>entertainment</td>\n",
       "      <td>1</td>\n",
       "    </tr>\n",
       "    <tr>\n",
       "      <th>2088</th>\n",
       "      <td>Three of the five nominees in the live-action ...</td>\n",
       "      <td>Briton wins short film Oscar</td>\n",
       "      <td>bbc/entertainment/369.txt</td>\n",
       "      <td>entertainment</td>\n",
       "      <td>1</td>\n",
       "    </tr>\n",
       "    <tr>\n",
       "      <th>2089</th>\n",
       "      <td>Veteran comedian and broadcaster Cyril Fletche...</td>\n",
       "      <td>Veteran comic Cyril Fletcher dies</td>\n",
       "      <td>bbc/entertainment/190.txt</td>\n",
       "      <td>entertainment</td>\n",
       "      <td>1</td>\n",
       "    </tr>\n",
       "    <tr>\n",
       "      <th>2090</th>\n",
       "      <td>Film director Quentin Tarantino is to direct a...</td>\n",
       "      <td>Tarantino to direct CSI episode</td>\n",
       "      <td>bbc/entertainment/365.txt</td>\n",
       "      <td>entertainment</td>\n",
       "      <td>1</td>\n",
       "    </tr>\n",
       "    <tr>\n",
       "      <th>2091</th>\n",
       "      <td>The Office's Ricky Gervais is writing an episo...</td>\n",
       "      <td>Gervais writing Simpsons episode</td>\n",
       "      <td>bbc/entertainment/196.txt</td>\n",
       "      <td>entertainment</td>\n",
       "      <td>1</td>\n",
       "    </tr>\n",
       "  </tbody>\n",
       "</table>\n",
       "<p>2092 rows × 5 columns</p>\n",
       "</div>"
      ],
      "text/plain": [
       "                                                   body  \\\n",
       "0     Literally putting a face on technology could b...   \n",
       "1     Soon you could go hunting via the net.\\n\\nA Te...   \n",
       "2     The European Parliament has thrown out a bill ...   \n",
       "3     UK mobile owners continue to break records wit...   \n",
       "4     A proposed European law on software patents wi...   \n",
       "...                                                 ...   \n",
       "2087  The Incredibles movie has beaten Shrek 2 to th...   \n",
       "2088  Three of the five nominees in the live-action ...   \n",
       "2089  Veteran comedian and broadcaster Cyril Fletche...   \n",
       "2090  Film director Quentin Tarantino is to direct a...   \n",
       "2091  The Office's Ricky Gervais is writing an episo...   \n",
       "\n",
       "                                  title                   filename  \\\n",
       "0       Putting a face to 'Big Brother'           bbc/tech/143.txt   \n",
       "1     Remote control rifle range debuts           bbc/tech/202.txt   \n",
       "2      EU software patent law faces axe           bbc/tech/330.txt   \n",
       "3     Text message record smashed again           bbc/tech/372.txt   \n",
       "4       'No re-draft' for EU patent law           bbc/tech/048.txt   \n",
       "...                                 ...                        ...   \n",
       "2087   Incredibles win animation awards  bbc/entertainment/332.txt   \n",
       "2088       Briton wins short film Oscar  bbc/entertainment/369.txt   \n",
       "2089  Veteran comic Cyril Fletcher dies  bbc/entertainment/190.txt   \n",
       "2090    Tarantino to direct CSI episode  bbc/entertainment/365.txt   \n",
       "2091   Gervais writing Simpsons episode  bbc/entertainment/196.txt   \n",
       "\n",
       "           category  row_number  \n",
       "0              tech           1  \n",
       "1              tech           1  \n",
       "2              tech           1  \n",
       "3              tech           1  \n",
       "4              tech           1  \n",
       "...             ...         ...  \n",
       "2087  entertainment           1  \n",
       "2088  entertainment           1  \n",
       "2089  entertainment           1  \n",
       "2090  entertainment           1  \n",
       "2091  entertainment           1  \n",
       "\n",
       "[2092 rows x 5 columns]"
      ]
     },
     "execution_count": 163,
     "metadata": {},
     "output_type": "execute_result"
    }
   ],
   "source": [
    "%%bigquery --use_rest_api\n",
    "SELECT *\n",
    "FROM (\n",
    "  SELECT\n",
    "      *,\n",
    "      ROW_NUMBER()\n",
    "          OVER (PARTITION BY body)\n",
    "          row_number\n",
    "  FROM \n",
    "    `bigquery-public-data.bbc_news.fulltext`\n",
    ")\n",
    "WHERE row_number = 1"
   ]
  },
  {
   "cell_type": "markdown",
   "metadata": {},
   "source": [
    "# Character Length"
   ]
  },
  {
   "cell_type": "markdown",
   "metadata": {},
   "source": [
    "## Average CharLength of Articles per Category"
   ]
  },
  {
   "cell_type": "code",
   "execution_count": 61,
   "metadata": {},
   "outputs": [
    {
     "data": {
      "application/vnd.jupyter.widget-view+json": {
       "model_id": "28dd949f0f814a2ca2c8e7efbf315e99",
       "version_major": 2,
       "version_minor": 0
      },
      "text/plain": [
       "Query is running:   0%|          |"
      ]
     },
     "metadata": {},
     "output_type": "display_data"
    },
    {
     "data": {
      "application/vnd.jupyter.widget-view+json": {
       "model_id": "3dc573a90389424c9375332a14fe6794",
       "version_major": 2,
       "version_minor": 0
      },
      "text/plain": [
       "Downloading:   0%|          |"
      ]
     },
     "metadata": {},
     "output_type": "display_data"
    },
    {
     "data": {
      "text/html": [
       "<div>\n",
       "<style scoped>\n",
       "    .dataframe tbody tr th:only-of-type {\n",
       "        vertical-align: middle;\n",
       "    }\n",
       "\n",
       "    .dataframe tbody tr th {\n",
       "        vertical-align: top;\n",
       "    }\n",
       "\n",
       "    .dataframe thead th {\n",
       "        text-align: right;\n",
       "    }\n",
       "</style>\n",
       "<table border=\"1\" class=\"dataframe\">\n",
       "  <thead>\n",
       "    <tr style=\"text-align: right;\">\n",
       "      <th></th>\n",
       "      <th>Category</th>\n",
       "      <th>body_len</th>\n",
       "    </tr>\n",
       "  </thead>\n",
       "  <tbody>\n",
       "    <tr>\n",
       "      <th>0</th>\n",
       "      <td>tech</td>\n",
       "      <td>2943.024938</td>\n",
       "    </tr>\n",
       "    <tr>\n",
       "      <th>1</th>\n",
       "      <td>politics</td>\n",
       "      <td>2650.592326</td>\n",
       "    </tr>\n",
       "    <tr>\n",
       "      <th>2</th>\n",
       "      <td>business</td>\n",
       "      <td>1952.762745</td>\n",
       "    </tr>\n",
       "    <tr>\n",
       "      <th>3</th>\n",
       "      <td>entertainment</td>\n",
       "      <td>1894.699482</td>\n",
       "    </tr>\n",
       "    <tr>\n",
       "      <th>4</th>\n",
       "      <td>sport</td>\n",
       "      <td>1865.023483</td>\n",
       "    </tr>\n",
       "  </tbody>\n",
       "</table>\n",
       "</div>"
      ],
      "text/plain": [
       "        Category     body_len\n",
       "0           tech  2943.024938\n",
       "1       politics  2650.592326\n",
       "2       business  1952.762745\n",
       "3  entertainment  1894.699482\n",
       "4          sport  1865.023483"
      ]
     },
     "execution_count": 61,
     "metadata": {},
     "output_type": "execute_result"
    }
   ],
   "source": [
    "%%bigquery --use_rest_api \n",
    "SELECT\n",
    "    Category,\n",
    "    AVG(CHAR_LENGTH(body)) as body_len\n",
    "FROM bigquery-public-data.bbc_news.fulltext\n",
    "GROUP BY Category\n",
    "ORDER BY body_len DESC;"
   ]
  },
  {
   "cell_type": "markdown",
   "metadata": {},
   "source": [
    "# CharLength Avg, Min, And Max"
   ]
  },
  {
   "cell_type": "code",
   "execution_count": 154,
   "metadata": {},
   "outputs": [
    {
     "data": {
      "application/vnd.jupyter.widget-view+json": {
       "model_id": "1f9d283f06e943cc8abf9deaa471cb24",
       "version_major": 2,
       "version_minor": 0
      },
      "text/plain": [
       "Query is running:   0%|          |"
      ]
     },
     "metadata": {},
     "output_type": "display_data"
    },
    {
     "data": {
      "application/vnd.jupyter.widget-view+json": {
       "model_id": "dcdf0938396e4600816081d520c51683",
       "version_major": 2,
       "version_minor": 0
      },
      "text/plain": [
       "Downloading:   0%|          |"
      ]
     },
     "metadata": {},
     "output_type": "display_data"
    }
   ],
   "source": [
    "%%bigquery --use_rest_api df\n",
    "SELECT\n",
    "    MIN(CHAR_LENGTH(body)) as body_len_min,\n",
    "    AVG(CHAR_LENGTH(body)) as body_len_avg,\n",
    "    MAX(CHAR_LENGTH(body)) as body_len_max,\n",
    "FROM bigquery-public-data.bbc_news.fulltext;"
   ]
  },
  {
   "cell_type": "code",
   "execution_count": 156,
   "metadata": {},
   "outputs": [
    {
     "data": {
      "text/html": [
       "<div>\n",
       "<style scoped>\n",
       "    .dataframe tbody tr th:only-of-type {\n",
       "        vertical-align: middle;\n",
       "    }\n",
       "\n",
       "    .dataframe tbody tr th {\n",
       "        vertical-align: top;\n",
       "    }\n",
       "\n",
       "    .dataframe thead th {\n",
       "        text-align: right;\n",
       "    }\n",
       "</style>\n",
       "<table border=\"1\" class=\"dataframe\">\n",
       "  <thead>\n",
       "    <tr style=\"text-align: right;\">\n",
       "      <th></th>\n",
       "      <th>value</th>\n",
       "      <th>metric</th>\n",
       "    </tr>\n",
       "  </thead>\n",
       "  <tbody>\n",
       "    <tr>\n",
       "      <th>0</th>\n",
       "      <td>470</td>\n",
       "      <td>body_len_min</td>\n",
       "    </tr>\n",
       "    <tr>\n",
       "      <th>1</th>\n",
       "      <td>2231</td>\n",
       "      <td>body_len_avg</td>\n",
       "    </tr>\n",
       "    <tr>\n",
       "      <th>2</th>\n",
       "      <td>25453</td>\n",
       "      <td>body_len_max</td>\n",
       "    </tr>\n",
       "  </tbody>\n",
       "</table>\n",
       "</div>"
      ],
      "text/plain": [
       "   value        metric\n",
       "0    470  body_len_min\n",
       "1   2231  body_len_avg\n",
       "2  25453  body_len_max"
      ]
     },
     "execution_count": 156,
     "metadata": {},
     "output_type": "execute_result"
    }
   ],
   "source": [
    "tdf = df.transpose()\n",
    "tdf.columns = ['value']\n",
    "tdf['metric'] = tdf.index\n",
    "tdf = tdf.reset_index(drop=True)\n",
    "tdf['value']=tdf.value.apply(lambda x: int(x))\n",
    "tdf"
   ]
  },
  {
   "cell_type": "markdown",
   "metadata": {},
   "source": [
    "# Checking Categories"
   ]
  },
  {
   "cell_type": "code",
   "execution_count": 7,
   "metadata": {},
   "outputs": [
    {
     "data": {
      "application/vnd.jupyter.widget-view+json": {
       "model_id": "0041e19bd9b84085a84dd11de9d474af",
       "version_major": 2,
       "version_minor": 0
      },
      "text/plain": [
       "Query is running:   0%|          |"
      ]
     },
     "metadata": {},
     "output_type": "display_data"
    },
    {
     "data": {
      "application/vnd.jupyter.widget-view+json": {
       "model_id": "27097394f709444aacbc29ffb93d1255",
       "version_major": 2,
       "version_minor": 0
      },
      "text/plain": [
       "Downloading:   0%|          |"
      ]
     },
     "metadata": {},
     "output_type": "display_data"
    },
    {
     "data": {
      "text/html": [
       "<div>\n",
       "<style scoped>\n",
       "    .dataframe tbody tr th:only-of-type {\n",
       "        vertical-align: middle;\n",
       "    }\n",
       "\n",
       "    .dataframe tbody tr th {\n",
       "        vertical-align: top;\n",
       "    }\n",
       "\n",
       "    .dataframe thead th {\n",
       "        text-align: right;\n",
       "    }\n",
       "</style>\n",
       "<table border=\"1\" class=\"dataframe\">\n",
       "  <thead>\n",
       "    <tr style=\"text-align: right;\">\n",
       "      <th></th>\n",
       "      <th>Category</th>\n",
       "      <th>cnt_category</th>\n",
       "    </tr>\n",
       "  </thead>\n",
       "  <tbody>\n",
       "    <tr>\n",
       "      <th>0</th>\n",
       "      <td>sport</td>\n",
       "      <td>511</td>\n",
       "    </tr>\n",
       "    <tr>\n",
       "      <th>1</th>\n",
       "      <td>business</td>\n",
       "      <td>510</td>\n",
       "    </tr>\n",
       "    <tr>\n",
       "      <th>2</th>\n",
       "      <td>tech</td>\n",
       "      <td>401</td>\n",
       "    </tr>\n",
       "    <tr>\n",
       "      <th>3</th>\n",
       "      <td>politics</td>\n",
       "      <td>417</td>\n",
       "    </tr>\n",
       "    <tr>\n",
       "      <th>4</th>\n",
       "      <td>entertainment</td>\n",
       "      <td>386</td>\n",
       "    </tr>\n",
       "  </tbody>\n",
       "</table>\n",
       "</div>"
      ],
      "text/plain": [
       "        Category  cnt_category\n",
       "0          sport           511\n",
       "1       business           510\n",
       "2           tech           401\n",
       "3       politics           417\n",
       "4  entertainment           386"
      ]
     },
     "execution_count": 7,
     "metadata": {},
     "output_type": "execute_result"
    }
   ],
   "source": [
    "%%bigquery --use_rest_api \n",
    "SELECT \n",
    "    DISTINCT Category,\n",
    "    COUNT(*) OVER (PARTITION BY CATEGORY) as cnt_category\n",
    "FROM bigquery-public-data.bbc_news.fulltext;\n"
   ]
  },
  {
   "cell_type": "markdown",
   "metadata": {},
   "source": [
    "# Checking for a Potention PrimaryKey\n",
    "## Checking if filename can be used as PK"
   ]
  },
  {
   "cell_type": "code",
   "execution_count": 8,
   "metadata": {},
   "outputs": [
    {
     "data": {
      "application/vnd.jupyter.widget-view+json": {
       "model_id": "6416688667ce4796a674a691b8dfc138",
       "version_major": 2,
       "version_minor": 0
      },
      "text/plain": [
       "Query is running:   0%|          |"
      ]
     },
     "metadata": {},
     "output_type": "display_data"
    },
    {
     "data": {
      "application/vnd.jupyter.widget-view+json": {
       "model_id": "16f29615af2d4b6ea50f2a1a09c44fc9",
       "version_major": 2,
       "version_minor": 0
      },
      "text/plain": [
       "Downloading: |          |"
      ]
     },
     "metadata": {},
     "output_type": "display_data"
    },
    {
     "data": {
      "text/html": [
       "<div>\n",
       "<style scoped>\n",
       "    .dataframe tbody tr th:only-of-type {\n",
       "        vertical-align: middle;\n",
       "    }\n",
       "\n",
       "    .dataframe tbody tr th {\n",
       "        vertical-align: top;\n",
       "    }\n",
       "\n",
       "    .dataframe thead th {\n",
       "        text-align: right;\n",
       "    }\n",
       "</style>\n",
       "<table border=\"1\" class=\"dataframe\">\n",
       "  <thead>\n",
       "    <tr style=\"text-align: right;\">\n",
       "      <th></th>\n",
       "      <th>filename</th>\n",
       "      <th>cnt_filename</th>\n",
       "    </tr>\n",
       "  </thead>\n",
       "  <tbody>\n",
       "  </tbody>\n",
       "</table>\n",
       "</div>"
      ],
      "text/plain": [
       "Empty DataFrame\n",
       "Columns: [filename, cnt_filename]\n",
       "Index: []"
      ]
     },
     "execution_count": 8,
     "metadata": {},
     "output_type": "execute_result"
    }
   ],
   "source": [
    "%%bigquery --use_rest_api\n",
    "\n",
    "WITH counted_filenames AS (\n",
    "    SELECT \n",
    "        filename,\n",
    "        COUNT(*) OVER (PARTITION BY filename) as cnt_filename\n",
    "    FROM \n",
    "        bigquery-public-data.bbc_news.fulltext\n",
    ")\n",
    "\n",
    "SELECT *\n",
    "FROM counted_filenames\n",
    "WHERE cnt_filename > 1;\n"
   ]
  },
  {
   "cell_type": "markdown",
   "metadata": {},
   "source": [
    "# Insights:\n",
    "\n",
    "- filename can be used as a primary key (PK).\n",
    "- title has duplicates, but upon investigation, it appears that most of them have modifications.\n",
    "- The maximum expected input character length per article is about 25,000 characters.\n",
    "- The average expected input character length per article is about 2,500 characters."
   ]
  }
 ],
 "metadata": {
  "kernelspec": {
   "display_name": "env",
   "language": "python",
   "name": "python3"
  },
  "language_info": {
   "codemirror_mode": {
    "name": "ipython",
    "version": 3
   },
   "file_extension": ".py",
   "mimetype": "text/x-python",
   "name": "python",
   "nbconvert_exporter": "python",
   "pygments_lexer": "ipython3",
   "version": "3.10.12"
  }
 },
 "nbformat": 4,
 "nbformat_minor": 2
}
